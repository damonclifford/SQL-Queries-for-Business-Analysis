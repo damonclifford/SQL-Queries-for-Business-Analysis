{
 "cells": [
  {
   "cell_type": "markdown",
   "metadata": {},
   "source": [
    "# SQL Queries for Business Analysis\n",
    "## by [Dan Hillman](http://danhillman.dev)\n",
    "### 1. What is the purpose of this project?\n",
    "The purpose of this project is to practice SQL queries and joins to other external data sources. This project will be updated periodically with new content.\n",
    "### 2. What data/database is used in this project?\n",
    "SQLite3 is used to query [chinook.db](http://www.sqlitetutorial.net/sqlite-sample-database/), a demo database for SQLite.\n",
    "### 3. Where did these exercises originate?\n",
    "Some of the exercises are adapted from a project within Dataquest's SQL curriculum. The CSV join to SQL Query section was created independently."
   ]
  },
  {
   "cell_type": "markdown",
   "metadata": {},
   "source": [
    "## Import Libraries and Initialize Setup"
   ]
  },
  {
   "cell_type": "code",
   "execution_count": 1,
   "metadata": {},
   "outputs": [],
   "source": [
    "import pandas as pd\n",
    "import numpy as np\n",
    "import sqlite3\n",
    "import matplotlib.pyplot as plt\n",
    "%matplotlib inline"
   ]
  },
  {
   "cell_type": "code",
   "execution_count": 2,
   "metadata": {},
   "outputs": [],
   "source": [
    "def run_query(q):\n",
    "    with sqlite3.connect('chinook.db') as conn:\n",
    "        return pd.read_sql(q, conn)"
   ]
  },
  {
   "cell_type": "markdown",
   "metadata": {},
   "source": [
    "To ensure the `pd.read()` method won't have to be written every time a query is run, it was advised to create a `run_query` function. "
   ]
  },
  {
   "cell_type": "code",
   "execution_count": 3,
   "metadata": {},
   "outputs": [
    {
     "data": {
      "text/html": [
       "<div>\n",
       "<style scoped>\n",
       "    .dataframe tbody tr th:only-of-type {\n",
       "        vertical-align: middle;\n",
       "    }\n",
       "\n",
       "    .dataframe tbody tr th {\n",
       "        vertical-align: top;\n",
       "    }\n",
       "\n",
       "    .dataframe thead th {\n",
       "        text-align: right;\n",
       "    }\n",
       "</style>\n",
       "<table border=\"1\" class=\"dataframe\">\n",
       "  <thead>\n",
       "    <tr style=\"text-align: right;\">\n",
       "      <th></th>\n",
       "      <th>Country</th>\n",
       "    </tr>\n",
       "  </thead>\n",
       "  <tbody>\n",
       "    <tr>\n",
       "      <th>0</th>\n",
       "      <td>Brazil</td>\n",
       "    </tr>\n",
       "    <tr>\n",
       "      <th>1</th>\n",
       "      <td>Germany</td>\n",
       "    </tr>\n",
       "    <tr>\n",
       "      <th>2</th>\n",
       "      <td>Canada</td>\n",
       "    </tr>\n",
       "    <tr>\n",
       "      <th>3</th>\n",
       "      <td>Norway</td>\n",
       "    </tr>\n",
       "    <tr>\n",
       "      <th>4</th>\n",
       "      <td>Czech Republic</td>\n",
       "    </tr>\n",
       "  </tbody>\n",
       "</table>\n",
       "</div>"
      ],
      "text/plain": [
       "          Country\n",
       "0          Brazil\n",
       "1         Germany\n",
       "2          Canada\n",
       "3          Norway\n",
       "4  Czech Republic"
      ]
     },
     "execution_count": 3,
     "metadata": {},
     "output_type": "execute_result"
    }
   ],
   "source": [
    "run_query(\"SELECT country FROM customers\").head()"
   ]
  },
  {
   "cell_type": "markdown",
   "metadata": {},
   "source": [
    "The `run_query()` function works correctly."
   ]
  },
  {
   "cell_type": "markdown",
   "metadata": {},
   "source": [
    "## Exercises\n",
    "The exercises below are comprised of adapted questions from Dataquest's SQL curriculum and original questions."
   ]
  },
  {
   "cell_type": "markdown",
   "metadata": {},
   "source": [
    "### Tracks Sold and % of Total Tracks Sold by Genre"
   ]
  },
  {
   "cell_type": "code",
   "execution_count": 4,
   "metadata": {},
   "outputs": [
    {
     "data": {
      "text/html": [
       "<div>\n",
       "<style scoped>\n",
       "    .dataframe tbody tr th:only-of-type {\n",
       "        vertical-align: middle;\n",
       "    }\n",
       "\n",
       "    .dataframe tbody tr th {\n",
       "        vertical-align: top;\n",
       "    }\n",
       "\n",
       "    .dataframe thead th {\n",
       "        text-align: right;\n",
       "    }\n",
       "</style>\n",
       "<table border=\"1\" class=\"dataframe\">\n",
       "  <thead>\n",
       "    <tr style=\"text-align: right;\">\n",
       "      <th></th>\n",
       "      <th>tracks_sold</th>\n",
       "      <th>pct_sold</th>\n",
       "    </tr>\n",
       "    <tr>\n",
       "      <th>genre</th>\n",
       "      <th></th>\n",
       "      <th></th>\n",
       "    </tr>\n",
       "  </thead>\n",
       "  <tbody>\n",
       "    <tr>\n",
       "      <th>Rock</th>\n",
       "      <td>157</td>\n",
       "      <td>0.317814</td>\n",
       "    </tr>\n",
       "    <tr>\n",
       "      <th>Latin</th>\n",
       "      <td>91</td>\n",
       "      <td>0.184211</td>\n",
       "    </tr>\n",
       "    <tr>\n",
       "      <th>Metal</th>\n",
       "      <td>64</td>\n",
       "      <td>0.129555</td>\n",
       "    </tr>\n",
       "    <tr>\n",
       "      <th>Alternative &amp; Punk</th>\n",
       "      <td>50</td>\n",
       "      <td>0.101215</td>\n",
       "    </tr>\n",
       "    <tr>\n",
       "      <th>Jazz</th>\n",
       "      <td>22</td>\n",
       "      <td>0.044534</td>\n",
       "    </tr>\n",
       "    <tr>\n",
       "      <th>Blues</th>\n",
       "      <td>15</td>\n",
       "      <td>0.030364</td>\n",
       "    </tr>\n",
       "    <tr>\n",
       "      <th>TV Shows</th>\n",
       "      <td>14</td>\n",
       "      <td>0.028340</td>\n",
       "    </tr>\n",
       "    <tr>\n",
       "      <th>R&amp;B/Soul</th>\n",
       "      <td>12</td>\n",
       "      <td>0.024291</td>\n",
       "    </tr>\n",
       "    <tr>\n",
       "      <th>Classical</th>\n",
       "      <td>8</td>\n",
       "      <td>0.016194</td>\n",
       "    </tr>\n",
       "    <tr>\n",
       "      <th>Comedy</th>\n",
       "      <td>8</td>\n",
       "      <td>0.016194</td>\n",
       "    </tr>\n",
       "  </tbody>\n",
       "</table>\n",
       "</div>"
      ],
      "text/plain": [
       "                    tracks_sold  pct_sold\n",
       "genre                                    \n",
       "Rock                        157  0.317814\n",
       "Latin                        91  0.184211\n",
       "Metal                        64  0.129555\n",
       "Alternative & Punk           50  0.101215\n",
       "Jazz                         22  0.044534\n",
       "Blues                        15  0.030364\n",
       "TV Shows                     14  0.028340\n",
       "R&B/Soul                     12  0.024291\n",
       "Classical                     8  0.016194\n",
       "Comedy                        8  0.016194"
      ]
     },
     "execution_count": 4,
     "metadata": {},
     "output_type": "execute_result"
    }
   ],
   "source": [
    "q = \"\"\"\n",
    "\n",
    "SELECT\n",
    "    g.Name AS genre\n",
    "  , COUNT(ii.TrackID) AS tracks_sold\n",
    "  , CAST(COUNT(ii.TrackID) AS FLOAT) / CAST(\n",
    "      (\n",
    "        SELECT\n",
    "           COUNT(*) AS tracks_count\n",
    "           FROM invoice_items AS ii\n",
    "           LEFT JOIN invoices AS i\n",
    "           ON i.InvoiceID = ii.InvoiceID\n",
    "           LEFT JOIN customers AS c\n",
    "           ON c.CustomerID = i.CustomerID\n",
    "           WHERE c.Country = 'USA'\n",
    "       ) \n",
    "       AS FLOAT) AS pct_sold\n",
    "FROM invoice_items AS ii\n",
    "LEFT JOIN tracks AS t\n",
    "ON t.TrackID = ii.TrackID\n",
    "LEFT JOIN genres AS g\n",
    "ON g.GenreID = t.GenreID\n",
    "LEFT JOIN invoices AS i\n",
    "ON i.InvoiceID = ii.InvoiceID\n",
    "LEFT JOIN customers AS c\n",
    "ON c.CustomerID = i.CustomerID\n",
    "WHERE c.Country = 'USA'\n",
    "GROUP BY 1\n",
    "ORDER BY 2 DESC;\n",
    "\n",
    "\"\"\"\n",
    "\n",
    "genre_tracks_sold =  run_query(q)\n",
    "genre_tracks_sold.set_index(\"genre\",drop=True,inplace=True)\n",
    "genre_tracks_sold.head(10)"
   ]
  },
  {
   "cell_type": "markdown",
   "metadata": {},
   "source": [
    "The \"pct_sold\" selection is calculated with the assumption of a \"GROUP BY\" clause effective in the numerator of the calculation. The subquery the `CAST(COUNT(ii.TrackID) AS FLOAT)` is divided by returns a count of all tracks sold in the USA."
   ]
  },
  {
   "cell_type": "code",
   "execution_count": 5,
   "metadata": {},
   "outputs": [
    {
     "data": {
      "image/png": "[encoded data removed]",
      "text/plain": [
       "<Figure size 720x288 with 1 Axes>"
      ]
     },
     "metadata": {
      "needs_background": "light"
     },
     "output_type": "display_data"
    }
   ],
   "source": [
    "ax = genre_tracks_sold.plot(kind=\"bar\", y=\"tracks_sold\",figsize=(10,4),rot=80,legend=False)\n",
    "ax.set_title(\"# Tracks Sold by Genre\")\n",
    "ax.set_xlabel(\"Genre\")\n",
    "ax.set_ylabel(\"# Tracks Sold\")\n",
    "plt.show()"
   ]
  },
  {
   "cell_type": "markdown",
   "metadata": {},
   "source": [
    "\"Rock\" is the most sold genre in the Chinook database by far."
   ]
  },
  {
   "cell_type": "markdown",
   "metadata": {},
   "source": [
    "### Dollar Sales by Employee"
   ]
  },
  {
   "cell_type": "code",
   "execution_count": 6,
   "metadata": {},
   "outputs": [],
   "source": [
    "q = \"\"\"\n",
    "\n",
    "SELECT\n",
    "    e.FirstName || ' ' || e.LastName AS employee_name\n",
    "  , SUM(UnitPrice) AS total_sales\n",
    "FROM invoice_items AS ii\n",
    "LEFT JOIN invoices AS i\n",
    "ON i.InvoiceID = ii.InvoiceID\n",
    "LEFT JOIN customers AS c\n",
    "ON c.CustomerID = i.CustomerID\n",
    "LEFT JOIN employees AS e\n",
    "ON e.EmployeeID = c.SupportRepID\n",
    "WHERE e.Title = 'Sales Support Agent'\n",
    "GROUP BY 1\n",
    "ORDER BY 2 DESC;\n",
    "       \n",
    "\"\"\"\n",
    "em_sales = run_query(q)\n",
    "em_sales.set_index(\"employee_name\",drop=True,inplace=True)"
   ]
  },
  {
   "cell_type": "markdown",
   "metadata": {},
   "source": [
    "Not a difficult query to pull off. The most important aspect of this query is understanding the aggregate function must be paired with a \"GROUP BY\" statement to group by \"employee_name\"."
   ]
  },
  {
   "cell_type": "code",
   "execution_count": 7,
   "metadata": {},
   "outputs": [
    {
     "data": {
      "image/png": "[encoded data removed]",
      "text/plain": [
       "<Figure size 288x288 with 1 Axes>"
      ]
     },
     "metadata": {
      "needs_background": "light"
     },
     "output_type": "display_data"
    }
   ],
   "source": [
    "ax = em_sales.plot(kind=\"bar\", y=\"total_sales\",figsize=(4,4),rot=50,legend=False)\n",
    "ax.set_title(\"$ Sales by Employee\")\n",
    "ax.set_xlabel(\"Employee Name\")\n",
    "ax.set_ylabel(\"$ Sales\")\n",
    "plt.show()"
   ]
  },
  {
   "cell_type": "markdown",
   "metadata": {},
   "source": [
    "### Sales and Customer Metrics by Country\n",
    "The subqueries below are combined into a main subquery to return a table of relevant sales and customer metrics grouped by country."
   ]
  },
  {
   "cell_type": "markdown",
   "metadata": {},
   "source": [
    "#### `tcs` Subquery\n",
    "The `tcs` subquery is used to return a table of total sales for each customer ID.\n",
    "#### `iamt` Subquery\n",
    "The `iamt` subquery is used to return a table of the total sale amount of each invoice ID. Customer ID for each Invoice ID is included as well for joining purposes later.\n",
    "#### `iavg` Subquery\n",
    "The `iavg` subquery is used to return a table of the average order amount (total invoice sale amount) for each customer ID. The `iavg` calculates the average order amount by querying from the `iamt` subquery.\n",
    "#### Main Query\n",
    "The main query joins the above subqueries together and calculates a new field, \"avg_sales_customer\", and ultimately groups the selection by country. "
   ]
  },
  {
   "cell_type": "code",
   "execution_count": 8,
   "metadata": {},
   "outputs": [
    {
     "data": {
      "text/html": [
       "<div>\n",
       "<style scoped>\n",
       "    .dataframe tbody tr th:only-of-type {\n",
       "        vertical-align: middle;\n",
       "    }\n",
       "\n",
       "    .dataframe tbody tr th {\n",
       "        vertical-align: top;\n",
       "    }\n",
       "\n",
       "    .dataframe thead th {\n",
       "        text-align: right;\n",
       "    }\n",
       "</style>\n",
       "<table border=\"1\" class=\"dataframe\">\n",
       "  <thead>\n",
       "    <tr style=\"text-align: right;\">\n",
       "      <th></th>\n",
       "      <th>customer_count</th>\n",
       "      <th>total_sales</th>\n",
       "      <th>avg_sales_customer</th>\n",
       "      <th>avg_order_amt</th>\n",
       "    </tr>\n",
       "    <tr>\n",
       "      <th>country</th>\n",
       "      <th></th>\n",
       "      <th></th>\n",
       "      <th></th>\n",
       "      <th></th>\n",
       "    </tr>\n",
       "  </thead>\n",
       "  <tbody>\n",
       "    <tr>\n",
       "      <th>USA</th>\n",
       "      <td>13</td>\n",
       "      <td>523.06</td>\n",
       "      <td>40.24</td>\n",
       "      <td>5.75</td>\n",
       "    </tr>\n",
       "    <tr>\n",
       "      <th>Canada</th>\n",
       "      <td>8</td>\n",
       "      <td>303.96</td>\n",
       "      <td>38.00</td>\n",
       "      <td>5.43</td>\n",
       "    </tr>\n",
       "    <tr>\n",
       "      <th>France</th>\n",
       "      <td>5</td>\n",
       "      <td>195.10</td>\n",
       "      <td>39.02</td>\n",
       "      <td>5.57</td>\n",
       "    </tr>\n",
       "    <tr>\n",
       "      <th>Brazil</th>\n",
       "      <td>5</td>\n",
       "      <td>190.10</td>\n",
       "      <td>38.02</td>\n",
       "      <td>5.43</td>\n",
       "    </tr>\n",
       "    <tr>\n",
       "      <th>Germany</th>\n",
       "      <td>4</td>\n",
       "      <td>156.48</td>\n",
       "      <td>39.12</td>\n",
       "      <td>5.59</td>\n",
       "    </tr>\n",
       "    <tr>\n",
       "      <th>United Kingdom</th>\n",
       "      <td>3</td>\n",
       "      <td>112.86</td>\n",
       "      <td>37.62</td>\n",
       "      <td>5.37</td>\n",
       "    </tr>\n",
       "    <tr>\n",
       "      <th>Czech Republic</th>\n",
       "      <td>2</td>\n",
       "      <td>90.24</td>\n",
       "      <td>45.12</td>\n",
       "      <td>6.45</td>\n",
       "    </tr>\n",
       "    <tr>\n",
       "      <th>Portugal</th>\n",
       "      <td>2</td>\n",
       "      <td>77.24</td>\n",
       "      <td>38.62</td>\n",
       "      <td>5.52</td>\n",
       "    </tr>\n",
       "    <tr>\n",
       "      <th>India</th>\n",
       "      <td>2</td>\n",
       "      <td>75.26</td>\n",
       "      <td>37.63</td>\n",
       "      <td>5.81</td>\n",
       "    </tr>\n",
       "    <tr>\n",
       "      <th>Chile</th>\n",
       "      <td>1</td>\n",
       "      <td>46.62</td>\n",
       "      <td>46.62</td>\n",
       "      <td>6.66</td>\n",
       "    </tr>\n",
       "  </tbody>\n",
       "</table>\n",
       "</div>"
      ],
      "text/plain": [
       "                customer_count  total_sales  avg_sales_customer  avg_order_amt\n",
       "country                                                                       \n",
       "USA                         13       523.06               40.24           5.75\n",
       "Canada                       8       303.96               38.00           5.43\n",
       "France                       5       195.10               39.02           5.57\n",
       "Brazil                       5       190.10               38.02           5.43\n",
       "Germany                      4       156.48               39.12           5.59\n",
       "United Kingdom               3       112.86               37.62           5.37\n",
       "Czech Republic               2        90.24               45.12           6.45\n",
       "Portugal                     2        77.24               38.62           5.52\n",
       "India                        2        75.26               37.63           5.81\n",
       "Chile                        1        46.62               46.62           6.66"
      ]
     },
     "execution_count": 8,
     "metadata": {},
     "output_type": "execute_result"
    }
   ],
   "source": [
    "q =\"\"\"\n",
    "\n",
    "WITH\n",
    "tcs AS \n",
    "  (\n",
    "    SELECT \n",
    "      c.CustomerID AS customer_id\n",
    "      , SUM(ii.UnitPrice) AS total_sales\n",
    "    FROM invoice_items AS ii\n",
    "    LEFT JOIN Invoices AS i\n",
    "    ON i.InvoiceID = ii.InvoiceID\n",
    "    LEFT JOIN Customers AS c\n",
    "    ON c.CustomerID = i.CustomerID\n",
    "    GROUP BY 1\n",
    "  ),\n",
    "    \n",
    "iamt AS \n",
    "  (\n",
    "    SELECT \n",
    "      i.InvoiceID AS invoice_id\n",
    "      , i.CustomerID AS customer_id\n",
    "      , SUM(ii.UnitPrice) AS order_amount\n",
    "    FROM invoice_items as ii\n",
    "    LEFT JOIN invoices AS i\n",
    "    ON ii.InvoiceID = i.InvoiceID\n",
    "    GROUP BY 1\n",
    "  ),\n",
    "    \n",
    "iavg AS \n",
    "  (\n",
    "    SELECT\n",
    "        iamt.customer_id\n",
    "      , AVG(iamt.order_amount) AS avg_inv_amt\n",
    "    FROM iamt\n",
    "    GROUP BY 1\n",
    "  )\n",
    "  \n",
    "SELECT\n",
    "  c.Country AS country\n",
    "  , COUNT(c.customerID) AS customer_count\n",
    "  , SUM(tcs.total_sales) AS total_sales\n",
    "  , ROUND(SUM(tcs.total_sales)/CAST(COUNT(c.customerID) AS FLOAT),2) AS avg_sales_customer\n",
    "  , ROUND(AVG(iavg.avg_inv_amt),2) AS avg_order_amt\n",
    "FROM customers AS c\n",
    "LEFT JOIN tcs\n",
    "ON tcs.customer_id = c.CustomerID\n",
    "LEFT JOIN iavg\n",
    "ON iavg.customer_id = c.CustomerID\n",
    "GROUP BY 1\n",
    "ORDER BY 3 DESC;\n",
    "\n",
    "\"\"\"\n",
    "country_stats = run_query(q)\n",
    "country_stats.set_index(\"country\",drop=True,inplace=True)\n",
    "country_stats.head(10)"
   ]
  },
  {
   "cell_type": "code",
   "execution_count": 9,
   "metadata": {},
   "outputs": [],
   "source": [
    "country_stats_cc = country_stats.loc[:,\"customer_count\"].head(9)\n",
    "country_stats_ts = country_stats.loc[:,\"total_sales\"].head(9)\n",
    "country_stats_asc = country_stats.loc[:,\"avg_sales_customer\"].head(9)\n",
    "country_stats_aoa = country_stats.loc[:,\"avg_order_amt\"].head(9)"
   ]
  },
  {
   "cell_type": "markdown",
   "metadata": {},
   "source": [
    "The dimensions of `country_stats` are broken out into specific DataFrames that will be visualized below."
   ]
  },
  {
   "cell_type": "markdown",
   "metadata": {},
   "source": [
    "### Visualizations of Sales and Customer Metrics by Country"
   ]
  },
  {
   "cell_type": "code",
   "execution_count": 10,
   "metadata": {},
   "outputs": [
    {
     "data": {
      "image/png": "[encoded data removed]",
      "text/plain": [
       "<Figure size 432x288 with 1 Axes>"
      ]
     },
     "metadata": {
      "needs_background": "light"
     },
     "output_type": "display_data"
    }
   ],
   "source": [
    "ax = country_stats_cc.plot(kind=\"bar\", rot=60)\n",
    "ax.set_title(\"Customers per Country\")\n",
    "ax.set_xlabel(\"Country\")\n",
    "ax.set_ylabel(\"# Customers\")\n",
    "plt.show()"
   ]
  },
  {
   "cell_type": "code",
   "execution_count": 11,
   "metadata": {},
   "outputs": [
    {
     "data": {
      "image/png": "[encoded data removed]",
      "text/plain": [
       "<Figure size 432x288 with 1 Axes>"
      ]
     },
     "metadata": {
      "needs_background": "light"
     },
     "output_type": "display_data"
    }
   ],
   "source": [
    "ax = country_stats_ts.plot(kind=\"bar\",rot=60)\n",
    "ax.set_title(\"Total Sales per Country\")\n",
    "ax.set_xlabel(\"Country\")\n",
    "ax.set_ylabel(\"$ Total Sales\")\n",
    "plt.show()"
   ]
  },
  {
   "cell_type": "code",
   "execution_count": 12,
   "metadata": {},
   "outputs": [
    {
     "data": {
      "image/png": "[encoded data removed]",
      "text/plain": [
       "<Figure size 432x288 with 1 Axes>"
      ]
     },
     "metadata": {
      "needs_background": "light"
     },
     "output_type": "display_data"
    }
   ],
   "source": [
    "ax = country_stats_asc.sort_values(ascending=False).plot(kind=\"bar\",rot=60)\n",
    "ax.set_title(\"Average Sales/Customer per Country\")\n",
    "ax.set_xlabel(\"Country\")\n",
    "ax.set_ylabel(\"$ Avg. Sales/Customer\")\n",
    "plt.show()"
   ]
  },
  {
   "cell_type": "code",
   "execution_count": 13,
   "metadata": {},
   "outputs": [
    {
     "data": {
      "image/png": "[encoded data removed]",
      "text/plain": [
       "<Figure size 432x288 with 1 Axes>"
      ]
     },
     "metadata": {
      "needs_background": "light"
     },
     "output_type": "display_data"
    }
   ],
   "source": [
    "ax = country_stats_aoa.sort_values(ascending=False).plot(kind=\"bar\",rot=60)\n",
    "ax.set_title(\"Average Order Amount per Country\")\n",
    "ax.set_xlabel(\"Country\")\n",
    "ax.set_ylabel(\"$ Avg. Order Amount\")\n",
    "plt.show()"
   ]
  },
  {
   "cell_type": "markdown",
   "metadata": {},
   "source": [
    "## Merging a CSV with a SQL Query\n",
    "A common operation when using SQL is knitting together the data from a SQL Query and the data from a CSV. Below is an elegant technique to combine a SQL query and CSV."
   ]
  },
  {
   "cell_type": "markdown",
   "metadata": {},
   "source": [
    "### \"Why Classic Rock Isn't What It Used to Be\" Dataset from FiveThirtyEight\n",
    "The CSV data came from FiveThirtyEight's article on [\"Why Classic Rock Isn't What It Used to Be\"](https://fivethirtyeight.com/features/why-classic-rock-isnt-what-it-used-to-be/). The author of the article tracked how many times a track was played on each classic rock station in 30 major metropolitan areas of the US in June 2014. The data can be downloaded [here](https://data.world/fivethirtyeight/classic-rock).\n",
    "#### What is the goal with this data?\n",
    "The goal of using this data is to analyze how many times per month the classic rock artists in the Chinook database are played on the radio in major metropolitan areas in the US. The track play count per artist from the CSV will be merged with the artist table from the Chinook database. The CSV and SQL query will be joined on an \"inner join\" to ensure only the artists both have in common will be contained in the final \"merged\" DataFrame."
   ]
  },
  {
   "cell_type": "code",
   "execution_count": 14,
   "metadata": {},
   "outputs": [
    {
     "data": {
      "text/html": [
       "<div>\n",
       "<style scoped>\n",
       "    .dataframe tbody tr th:only-of-type {\n",
       "        vertical-align: middle;\n",
       "    }\n",
       "\n",
       "    .dataframe tbody tr th {\n",
       "        vertical-align: top;\n",
       "    }\n",
       "\n",
       "    .dataframe thead th {\n",
       "        text-align: right;\n",
       "    }\n",
       "</style>\n",
       "<table border=\"1\" class=\"dataframe\">\n",
       "  <thead>\n",
       "    <tr style=\"text-align: right;\">\n",
       "      <th></th>\n",
       "      <th>Song Clean</th>\n",
       "      <th>ARTIST CLEAN</th>\n",
       "      <th>Release Year</th>\n",
       "      <th>COMBINED</th>\n",
       "      <th>First?</th>\n",
       "      <th>Year?</th>\n",
       "      <th>PlayCount</th>\n",
       "      <th>F*G</th>\n",
       "    </tr>\n",
       "  </thead>\n",
       "  <tbody>\n",
       "    <tr>\n",
       "      <th>0</th>\n",
       "      <td>Caught Up in You</td>\n",
       "      <td>.38 Special</td>\n",
       "      <td>1982</td>\n",
       "      <td>Caught Up in You by .38 Special</td>\n",
       "      <td>1</td>\n",
       "      <td>1</td>\n",
       "      <td>82</td>\n",
       "      <td>82</td>\n",
       "    </tr>\n",
       "    <tr>\n",
       "      <th>1</th>\n",
       "      <td>Fantasy Girl</td>\n",
       "      <td>.38 Special</td>\n",
       "      <td>NaN</td>\n",
       "      <td>Fantasy Girl by .38 Special</td>\n",
       "      <td>1</td>\n",
       "      <td>0</td>\n",
       "      <td>3</td>\n",
       "      <td>0</td>\n",
       "    </tr>\n",
       "    <tr>\n",
       "      <th>2</th>\n",
       "      <td>Hold On Loosely</td>\n",
       "      <td>.38 Special</td>\n",
       "      <td>1981</td>\n",
       "      <td>Hold On Loosely by .38 Special</td>\n",
       "      <td>1</td>\n",
       "      <td>1</td>\n",
       "      <td>85</td>\n",
       "      <td>85</td>\n",
       "    </tr>\n",
       "    <tr>\n",
       "      <th>3</th>\n",
       "      <td>Rockin' Into the Night</td>\n",
       "      <td>.38 Special</td>\n",
       "      <td>1980</td>\n",
       "      <td>Rockin' Into the Night by .38 Special</td>\n",
       "      <td>1</td>\n",
       "      <td>1</td>\n",
       "      <td>18</td>\n",
       "      <td>18</td>\n",
       "    </tr>\n",
       "    <tr>\n",
       "      <th>4</th>\n",
       "      <td>Art For Arts Sake</td>\n",
       "      <td>10cc</td>\n",
       "      <td>1975</td>\n",
       "      <td>Art For Arts Sake by 10cc</td>\n",
       "      <td>1</td>\n",
       "      <td>1</td>\n",
       "      <td>1</td>\n",
       "      <td>1</td>\n",
       "    </tr>\n",
       "  </tbody>\n",
       "</table>\n",
       "</div>"
      ],
      "text/plain": [
       "               Song Clean ARTIST CLEAN Release Year  \\\n",
       "0        Caught Up in You  .38 Special         1982   \n",
       "1            Fantasy Girl  .38 Special          NaN   \n",
       "2         Hold On Loosely  .38 Special         1981   \n",
       "3  Rockin' Into the Night  .38 Special         1980   \n",
       "4       Art For Arts Sake         10cc         1975   \n",
       "\n",
       "                                COMBINED  First?  Year?  PlayCount  F*G  \n",
       "0        Caught Up in You by .38 Special       1      1         82   82  \n",
       "1            Fantasy Girl by .38 Special       1      0          3    0  \n",
       "2         Hold On Loosely by .38 Special       1      1         85   85  \n",
       "3  Rockin' Into the Night by .38 Special       1      1         18   18  \n",
       "4              Art For Arts Sake by 10cc       1      1          1    1  "
      ]
     },
     "execution_count": 14,
     "metadata": {},
     "output_type": "execute_result"
    }
   ],
   "source": [
    "cr_song_list = pd.read_csv(\"fivethirtyeight-classic-rock/classic-rock-song-list.csv\")\n",
    "cr_song_list.head()"
   ]
  },
  {
   "cell_type": "markdown",
   "metadata": {},
   "source": [
    "The most relevant columns to be merged will be the \"ARTIST CLEAN\" and \"PlayCount\" columns."
   ]
  },
  {
   "cell_type": "code",
   "execution_count": 15,
   "metadata": {},
   "outputs": [
    {
     "data": {
      "text/html": [
       "<div>\n",
       "<style scoped>\n",
       "    .dataframe tbody tr th:only-of-type {\n",
       "        vertical-align: middle;\n",
       "    }\n",
       "\n",
       "    .dataframe tbody tr th {\n",
       "        vertical-align: top;\n",
       "    }\n",
       "\n",
       "    .dataframe thead th {\n",
       "        text-align: right;\n",
       "    }\n",
       "</style>\n",
       "<table border=\"1\" class=\"dataframe\">\n",
       "  <thead>\n",
       "    <tr style=\"text-align: right;\">\n",
       "      <th></th>\n",
       "      <th>ARTIST CLEAN</th>\n",
       "      <th>PlayCount</th>\n",
       "    </tr>\n",
       "  </thead>\n",
       "  <tbody>\n",
       "    <tr>\n",
       "      <th>0</th>\n",
       "      <td>.38 Special</td>\n",
       "      <td>188</td>\n",
       "    </tr>\n",
       "    <tr>\n",
       "      <th>1</th>\n",
       "      <td>10cc</td>\n",
       "      <td>1</td>\n",
       "    </tr>\n",
       "    <tr>\n",
       "      <th>2</th>\n",
       "      <td>3 Doors Down</td>\n",
       "      <td>20</td>\n",
       "    </tr>\n",
       "    <tr>\n",
       "      <th>3</th>\n",
       "      <td>4 Non Blondes</td>\n",
       "      <td>3</td>\n",
       "    </tr>\n",
       "    <tr>\n",
       "      <th>4</th>\n",
       "      <td>AC/DC</td>\n",
       "      <td>866</td>\n",
       "    </tr>\n",
       "  </tbody>\n",
       "</table>\n",
       "</div>"
      ],
      "text/plain": [
       "    ARTIST CLEAN  PlayCount\n",
       "0    .38 Special        188\n",
       "1           10cc          1\n",
       "2   3 Doors Down         20\n",
       "3  4 Non Blondes          3\n",
       "4          AC/DC        866"
      ]
     },
     "execution_count": 15,
     "metadata": {},
     "output_type": "execute_result"
    }
   ],
   "source": [
    "cr_artist_list = cr_song_list.loc[:,[\"ARTIST CLEAN\",\"PlayCount\"]]\n",
    "cr_artist_list_group = cr_artist_list.groupby(by=[\"ARTIST CLEAN\"], as_index=False).sum()\n",
    "cr_artist_list_group.head()"
   ]
  },
  {
   "cell_type": "markdown",
   "metadata": {},
   "source": [
    "The `cr_artist_list` DataFrame has been grouped by \"ARTIST CLEAN\" and aggregated by the sum of \"PlayCount\" into `cr_artist_list_group`."
   ]
  },
  {
   "cell_type": "code",
   "execution_count": 16,
   "metadata": {},
   "outputs": [
    {
     "name": "stdout",
     "output_type": "stream",
     "text": [
      "<class 'pandas.core.frame.DataFrame'>\n",
      "Int64Index: 475 entries, 0 to 474\n",
      "Data columns (total 2 columns):\n",
      "ARTIST CLEAN    475 non-null object\n",
      "PlayCount       475 non-null int64\n",
      "dtypes: int64(1), object(1)\n",
      "memory usage: 11.1+ KB\n"
     ]
    }
   ],
   "source": [
    "cr_artist_list_group.info()"
   ]
  },
  {
   "cell_type": "markdown",
   "metadata": {},
   "source": [
    "`cr_artist_list_group` contains data on 475 different artists."
   ]
  },
  {
   "cell_type": "markdown",
   "metadata": {},
   "source": [
    "### Artist Name SQL Query from Chinook Database"
   ]
  },
  {
   "cell_type": "code",
   "execution_count": 17,
   "metadata": {},
   "outputs": [
    {
     "data": {
      "text/html": [
       "<div>\n",
       "<style scoped>\n",
       "    .dataframe tbody tr th:only-of-type {\n",
       "        vertical-align: middle;\n",
       "    }\n",
       "\n",
       "    .dataframe tbody tr th {\n",
       "        vertical-align: top;\n",
       "    }\n",
       "\n",
       "    .dataframe thead th {\n",
       "        text-align: right;\n",
       "    }\n",
       "</style>\n",
       "<table border=\"1\" class=\"dataframe\">\n",
       "  <thead>\n",
       "    <tr style=\"text-align: right;\">\n",
       "      <th></th>\n",
       "      <th>artist_name</th>\n",
       "    </tr>\n",
       "  </thead>\n",
       "  <tbody>\n",
       "    <tr>\n",
       "      <th>0</th>\n",
       "      <td>A Cor Do Som</td>\n",
       "    </tr>\n",
       "    <tr>\n",
       "      <th>1</th>\n",
       "      <td>AC/DC</td>\n",
       "    </tr>\n",
       "    <tr>\n",
       "      <th>2</th>\n",
       "      <td>Aaron Copland &amp; London Symphony Orchestra</td>\n",
       "    </tr>\n",
       "    <tr>\n",
       "      <th>3</th>\n",
       "      <td>Aaron Goldberg</td>\n",
       "    </tr>\n",
       "    <tr>\n",
       "      <th>4</th>\n",
       "      <td>Academy of St. Martin in the Fields &amp; Sir Nevi...</td>\n",
       "    </tr>\n",
       "  </tbody>\n",
       "</table>\n",
       "</div>"
      ],
      "text/plain": [
       "                                         artist_name\n",
       "0                                       A Cor Do Som\n",
       "1                                              AC/DC\n",
       "2          Aaron Copland & London Symphony Orchestra\n",
       "3                                     Aaron Goldberg\n",
       "4  Academy of St. Martin in the Fields & Sir Nevi..."
      ]
     },
     "execution_count": 17,
     "metadata": {},
     "output_type": "execute_result"
    }
   ],
   "source": [
    "q = \"\"\"\n",
    "SELECT\n",
    "  Name AS artist_name\n",
    "FROM artists\n",
    "GROUP BY 1;\n",
    "\"\"\"\n",
    "artist_names_ch = run_query(q)\n",
    "artist_names_ch.head()"
   ]
  },
  {
   "cell_type": "markdown",
   "metadata": {},
   "source": [
    "The query above selects all artists from the \"artists\" table from the Chinook database and assigns the query to the `artist_names_ch` DataFrame. A \"GROUP BY\" clause was included to ensure any duplicates will not be present. "
   ]
  },
  {
   "cell_type": "code",
   "execution_count": 18,
   "metadata": {},
   "outputs": [
    {
     "name": "stdout",
     "output_type": "stream",
     "text": [
      "<class 'pandas.core.frame.DataFrame'>\n",
      "RangeIndex: 275 entries, 0 to 274\n",
      "Data columns (total 1 columns):\n",
      "artist_name    275 non-null object\n",
      "dtypes: object(1)\n",
      "memory usage: 2.2+ KB\n"
     ]
    }
   ],
   "source": [
    "artist_names_ch.info()"
   ]
  },
  {
   "cell_type": "markdown",
   "metadata": {},
   "source": [
    "`artist_names_ch` contains 275 artists."
   ]
  },
  {
   "cell_type": "code",
   "execution_count": 19,
   "metadata": {},
   "outputs": [
    {
     "data": {
      "text/html": [
       "<div>\n",
       "<style scoped>\n",
       "    .dataframe tbody tr th:only-of-type {\n",
       "        vertical-align: middle;\n",
       "    }\n",
       "\n",
       "    .dataframe tbody tr th {\n",
       "        vertical-align: top;\n",
       "    }\n",
       "\n",
       "    .dataframe thead th {\n",
       "        text-align: right;\n",
       "    }\n",
       "</style>\n",
       "<table border=\"1\" class=\"dataframe\">\n",
       "  <thead>\n",
       "    <tr style=\"text-align: right;\">\n",
       "      <th></th>\n",
       "      <th>artist_name</th>\n",
       "      <th>ARTIST CLEAN</th>\n",
       "      <th>PlayCount</th>\n",
       "    </tr>\n",
       "  </thead>\n",
       "  <tbody>\n",
       "    <tr>\n",
       "      <th>0</th>\n",
       "      <td>AC/DC</td>\n",
       "      <td>AC/DC</td>\n",
       "      <td>866</td>\n",
       "    </tr>\n",
       "    <tr>\n",
       "      <th>1</th>\n",
       "      <td>Aerosmith</td>\n",
       "      <td>Aerosmith</td>\n",
       "      <td>813</td>\n",
       "    </tr>\n",
       "    <tr>\n",
       "      <th>2</th>\n",
       "      <td>Alanis Morissette</td>\n",
       "      <td>Alanis Morissette</td>\n",
       "      <td>7</td>\n",
       "    </tr>\n",
       "    <tr>\n",
       "      <th>3</th>\n",
       "      <td>Alice In Chains</td>\n",
       "      <td>Alice In Chains</td>\n",
       "      <td>22</td>\n",
       "    </tr>\n",
       "    <tr>\n",
       "      <th>4</th>\n",
       "      <td>Audioslave</td>\n",
       "      <td>Audioslave</td>\n",
       "      <td>1</td>\n",
       "    </tr>\n",
       "    <tr>\n",
       "      <th>5</th>\n",
       "      <td>Black Sabbath</td>\n",
       "      <td>Black Sabbath</td>\n",
       "      <td>229</td>\n",
       "    </tr>\n",
       "    <tr>\n",
       "      <th>6</th>\n",
       "      <td>Creedence Clearwater Revival</td>\n",
       "      <td>Creedence Clearwater Revival</td>\n",
       "      <td>332</td>\n",
       "    </tr>\n",
       "    <tr>\n",
       "      <th>7</th>\n",
       "      <td>Deep Purple</td>\n",
       "      <td>Deep Purple</td>\n",
       "      <td>151</td>\n",
       "    </tr>\n",
       "    <tr>\n",
       "      <th>8</th>\n",
       "      <td>Def Leppard</td>\n",
       "      <td>Def Leppard</td>\n",
       "      <td>480</td>\n",
       "    </tr>\n",
       "    <tr>\n",
       "      <th>9</th>\n",
       "      <td>Eric Clapton</td>\n",
       "      <td>Eric Clapton</td>\n",
       "      <td>269</td>\n",
       "    </tr>\n",
       "  </tbody>\n",
       "</table>\n",
       "</div>"
      ],
      "text/plain": [
       "                    artist_name                  ARTIST CLEAN  PlayCount\n",
       "0                         AC/DC                         AC/DC        866\n",
       "1                     Aerosmith                     Aerosmith        813\n",
       "2             Alanis Morissette             Alanis Morissette          7\n",
       "3               Alice In Chains               Alice In Chains         22\n",
       "4                    Audioslave                    Audioslave          1\n",
       "5                 Black Sabbath                 Black Sabbath        229\n",
       "6  Creedence Clearwater Revival  Creedence Clearwater Revival        332\n",
       "7                   Deep Purple                   Deep Purple        151\n",
       "8                   Def Leppard                   Def Leppard        480\n",
       "9                  Eric Clapton                  Eric Clapton        269"
      ]
     },
     "execution_count": 19,
     "metadata": {},
     "output_type": "execute_result"
    }
   ],
   "source": [
    "merged_artists = artist_names_ch.merge(cr_artist_list_group,\n",
    "                                    how=\"inner\",\n",
    "                                    left_on=\"artist_name\",\n",
    "                                    right_on=\"ARTIST CLEAN\")\n",
    "merged_artists.head(10)"
   ]
  },
  {
   "cell_type": "markdown",
   "metadata": {},
   "source": [
    "`merged_artists` was created using an INNER JOIN between `artist_names_ch` and `cr_artist_list_group` on the \"artist name\" and \"ARTIST CLEAN\" columns. An INNER JOIN was used so that only data common between both DataFrames would be included in `merged_artists`."
   ]
  },
  {
   "cell_type": "code",
   "execution_count": 20,
   "metadata": {},
   "outputs": [
    {
     "data": {
      "text/html": [
       "<div>\n",
       "<style scoped>\n",
       "    .dataframe tbody tr th:only-of-type {\n",
       "        vertical-align: middle;\n",
       "    }\n",
       "\n",
       "    .dataframe tbody tr th {\n",
       "        vertical-align: top;\n",
       "    }\n",
       "\n",
       "    .dataframe thead th {\n",
       "        text-align: right;\n",
       "    }\n",
       "</style>\n",
       "<table border=\"1\" class=\"dataframe\">\n",
       "  <thead>\n",
       "    <tr style=\"text-align: right;\">\n",
       "      <th></th>\n",
       "      <th>PlayCount</th>\n",
       "    </tr>\n",
       "    <tr>\n",
       "      <th>artist_name</th>\n",
       "      <th></th>\n",
       "    </tr>\n",
       "  </thead>\n",
       "  <tbody>\n",
       "    <tr>\n",
       "      <th>AC/DC</th>\n",
       "      <td>866</td>\n",
       "    </tr>\n",
       "    <tr>\n",
       "      <th>Aerosmith</th>\n",
       "      <td>813</td>\n",
       "    </tr>\n",
       "    <tr>\n",
       "      <th>Alanis Morissette</th>\n",
       "      <td>7</td>\n",
       "    </tr>\n",
       "    <tr>\n",
       "      <th>Alice In Chains</th>\n",
       "      <td>22</td>\n",
       "    </tr>\n",
       "    <tr>\n",
       "      <th>Audioslave</th>\n",
       "      <td>1</td>\n",
       "    </tr>\n",
       "    <tr>\n",
       "      <th>Black Sabbath</th>\n",
       "      <td>229</td>\n",
       "    </tr>\n",
       "    <tr>\n",
       "      <th>Creedence Clearwater Revival</th>\n",
       "      <td>332</td>\n",
       "    </tr>\n",
       "    <tr>\n",
       "      <th>Deep Purple</th>\n",
       "      <td>151</td>\n",
       "    </tr>\n",
       "    <tr>\n",
       "      <th>Def Leppard</th>\n",
       "      <td>480</td>\n",
       "    </tr>\n",
       "    <tr>\n",
       "      <th>Eric Clapton</th>\n",
       "      <td>269</td>\n",
       "    </tr>\n",
       "  </tbody>\n",
       "</table>\n",
       "</div>"
      ],
      "text/plain": [
       "                              PlayCount\n",
       "artist_name                            \n",
       "AC/DC                               866\n",
       "Aerosmith                           813\n",
       "Alanis Morissette                     7\n",
       "Alice In Chains                      22\n",
       "Audioslave                            1\n",
       "Black Sabbath                       229\n",
       "Creedence Clearwater Revival        332\n",
       "Deep Purple                         151\n",
       "Def Leppard                         480\n",
       "Eric Clapton                        269"
      ]
     },
     "execution_count": 20,
     "metadata": {},
     "output_type": "execute_result"
    }
   ],
   "source": [
    "merged_artists.drop(\"ARTIST CLEAN\",axis=1,inplace=True)\n",
    "merged_artists.set_index(\"artist_name\",drop=True,inplace=True)\n",
    "merged_artists.head(10)"
   ]
  },
  {
   "cell_type": "markdown",
   "metadata": {},
   "source": [
    "The \"ARTIST CLEAN\" column is dropped from `merged_artists` and \"artist_name\" is made the index."
   ]
  },
  {
   "cell_type": "code",
   "execution_count": 21,
   "metadata": {},
   "outputs": [
    {
     "name": "stdout",
     "output_type": "stream",
     "text": [
      "<class 'pandas.core.frame.DataFrame'>\n",
      "Index: 48 entries, AC/DC to Whitesnake\n",
      "Data columns (total 1 columns):\n",
      "PlayCount    48 non-null int64\n",
      "dtypes: int64(1)\n",
      "memory usage: 768.0+ bytes\n"
     ]
    }
   ],
   "source": [
    "merged_artists.info()"
   ]
  },
  {
   "cell_type": "markdown",
   "metadata": {},
   "source": [
    "There are 48 artists the `cr_artist_list_group` DataFrame and `artist_names` DataFrames have in common. Essentially, there are 48 artists in the `artists` table of the Chinook database that are contained in the CSV used in the FiveThirtyEight analysis."
   ]
  },
  {
   "cell_type": "code",
   "execution_count": 22,
   "metadata": {},
   "outputs": [
    {
     "data": {
      "image/png": "[encoded data removed]",
      "text/plain": [
       "<Figure size 432x288 with 1 Axes>"
      ]
     },
     "metadata": {
      "needs_background": "light"
     },
     "output_type": "display_data"
    }
   ],
   "source": [
    "ax = merged_artists.sort_values(by=\"PlayCount\",ascending=False).head(13).plot(kind=\"bar\",rot=80,legend=False)\n",
    "ax.set_title(\"Classic Rock Artist Radio Play Count in 30 US Cities, June 2014\")\n",
    "ax.set_xlabel(\"Artist\")\n",
    "ax.set_ylabel(\"Play Count\")\n",
    "plt.show()"
   ]
  },
  {
   "cell_type": "markdown",
   "metadata": {},
   "source": [
    "The bar chart above is a direct result of combining the data from an external CSV and a SQL query."
   ]
  }
 ],
 "metadata": {
  "kernelspec": {
   "display_name": "Python 3",
   "language": "python",
   "name": "python3"
  },
  "language_info": {
   "codemirror_mode": {
    "name": "ipython",
    "version": 3
   },
   "file_extension": ".py",
   "mimetype": "text/x-python",
   "name": "python",
   "nbconvert_exporter": "python",
   "pygments_lexer": "ipython3",
   "version": "3.7.3"
  }
 },
 "nbformat": 4,
 "nbformat_minor": 2
}
